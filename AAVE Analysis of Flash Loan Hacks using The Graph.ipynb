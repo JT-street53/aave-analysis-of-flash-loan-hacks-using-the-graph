{
 "cells": [
  {
   "cell_type": "code",
   "execution_count": 1,
   "id": "d63166fa",
   "metadata": {},
   "outputs": [
    {
     "name": "stderr",
     "output_type": "stream",
     "text": [
      "2022-04-24 02:54:07.757 \n",
      "  \u001b[33m\u001b[1mWarning:\u001b[0m to view this Streamlit app on a browser, run it with the following\n",
      "  command:\n",
      "\n",
      "    streamlit run /Users/shelshoker/.pyenv/versions/3.9.2/lib/python3.9/site-packages/ipykernel_launcher.py [ARGUMENTS]\n"
     ]
    }
   ],
   "source": [
    "import pandas as pd\n",
    "import numpy as np\n",
    "import matplotlib.pyplot as plt\n",
    "import math, warnings\n",
    "import bubbletea\n",
    "\n",
    "warnings.filterwarnings('ignore')"
   ]
  },
  {
   "cell_type": "code",
   "execution_count": 2,
   "id": "3bcc6c34",
   "metadata": {},
   "outputs": [],
   "source": [
    "HACK_TX_HASHES = [\n",
    "    '0x7eb2436eedd39c8865fcc1e51ae4a245e89765f4c64a13200c623f676b3912f9', # Alpha Homora V2 Exploiter : Feb-2021\n",
    "    '0x0fe2542079644e107cbf13690eb9c2c65963ccb79089ff96bfaf8dced2331c92', # Cream v1 Flashloan Exploiter : Oct-2021\n",
    "    '0xcd314668aaa9bbfebaf1a0bd2b6553d01dd58899c508d4729fa7311dc5d33ad7' # Beanstalk Flashloan Exploiter : Apr-2022\n",
    "]"
   ]
  },
  {
   "cell_type": "markdown",
   "id": "5e3bd396",
   "metadata": {},
   "source": [
    "# 1. Load Data Using Graph Network"
   ]
  },
  {
   "cell_type": "code",
   "execution_count": 3,
   "id": "7d65b874",
   "metadata": {},
   "outputs": [],
   "source": [
    "# query MyQuery {\n",
    "#   flashLoans(where: {timestamp_gt: 1630454400}, orderBy: timestamp) {\n",
    "#     id\n",
    "#     target\n",
    "#     timestamp\n",
    "#     initiator {\n",
    "#       id\n",
    "#       lifetimeRewards\n",
    "#       unclaimedRewards\n",
    "#       borrowedReservesCount\n",
    "#       borrowHistory(first: 10, orderBy: timestamp) {\n",
    "#         amount\n",
    "#         timestamp\n",
    "#       }\n",
    "#       swapHistory(first: 10, orderBy: timestamp) {\n",
    "#         timestamp\n",
    "#         variableBorrowRate\n",
    "#       }\n",
    "#       depositHistory(orderBy: timestamp, first: 10) {\n",
    "#         timestamp\n",
    "#         amount\n",
    "#       }\n",
    "#       incentivesLastUpdated\n",
    "#       liquidationCallHistory(orderBy: timestamp, first: 10) {\n",
    "#         timestamp\n",
    "#         liquidator\n",
    "#         collateralAmount\n",
    "#       }\n",
    "#       redeemUnderlyingHistory(first: 10, orderBy: timestamp) {\n",
    "#         amount\n",
    "#         timestamp\n",
    "#       }\n",
    "#       originationFeeLiquidationHistory(orderBy: timestamp, first: 10) {\n",
    "#         timestamp\n",
    "#       }\n",
    "#       rebalanceStableBorrowRateHistory(first: 10, orderBy: timestamp) {\n",
    "#         timestamp\n",
    "#         borrowRateTo\n",
    "#         borrowRateFrom\n",
    "#       }\n",
    "#     }\n",
    "#     amount\n",
    "#     totalFee\n",
    "#     pool {\n",
    "#       lendingPool\n",
    "#       lastUpdateTimestamp\n",
    "#     }\n",
    "#     reserve {\n",
    "#       totalDeposits\n",
    "#       symbol\n",
    "#       baseLTVasCollateral\n",
    "#       lifetimeBorrows\n",
    "#       lifetimeCurrentVariableDebt\n",
    "#       lifetimeDepositorsInterestEarned\n",
    "#       lifetimeFlashLoanPremium\n",
    "#       lifetimeFlashLoans\n",
    "#       lifetimeLiquidated\n",
    "#       lifetimeLiquidity\n",
    "#       lifetimePrincipalStableDebt\n",
    "#       lifetimeRepayments\n",
    "#       lifetimeReserveFactorAccrued\n",
    "#       lifetimeScaledVariableDebt\n",
    "#       lifetimeWithdrawals\n",
    "#       name\n",
    "#       totalLiquidity\n",
    "#       totalLiquidityAsCollateral\n",
    "#       totalPrincipalStableDebt\n",
    "#       totalScaledVariableDebt\n",
    "#       underlyingAsset\n",
    "#     }\n",
    "#   }\n",
    "# }"
   ]
  },
  {
   "cell_type": "code",
   "execution_count": 4,
   "id": "f1e0a9d1",
   "metadata": {},
   "outputs": [
    {
     "name": "stdout",
     "output_type": "stream",
     "text": [
      "CPU times: user 1min 21s, sys: 1.01 s, total: 1min 22s\n",
      "Wall time: 5min 9s\n"
     ]
    }
   ],
   "source": [
    "%%time\n",
    "# # # # # # # # # # # # # # # # #\n",
    "# Load data from Aave subgraph  #\n",
    "# # # # # # # # # # # # # # # # #\n",
    "\n",
    "def graphQL(timestamp_gt):\n",
    "    url = \"https://api.thegraph.com/subgraphs/name/aave/protocol-v2\"\n",
    "    query = \"{flashLoans(where: {timestamp_gt:\"+str(timestamp_gt)+\"}, orderBy: timestamp) {id,target,timestamp,initiator {id,lifetimeRewards,unclaimedRewards,borrowedReservesCount,borrowHistory(first: 10, orderBy: timestamp) {amount,timestamp}, swapHistory(first: 10, orderBy: timestamp) {timestamp,variableBorrowRate}, depositHistory(orderBy: timestamp, first: 10) {timestamp,amount},incentivesLastUpdated,liquidationCallHistory(orderBy: timestamp, first: 10) {timestamp,liquidator,collateralAmount},redeemUnderlyingHistory(first: 10, orderBy: timestamp) {amount,timestamp}, originationFeeLiquidationHistory(orderBy: timestamp, first: 10) {timestamp},rebalanceStableBorrowRateHistory(first: 10, orderBy: timestamp) {timestamp,borrowRateTo,borrowRateFrom}},amount,totalFee,pool {lendingPool,lastUpdateTimestamp},reserve {totalDeposits,symbol,baseLTVasCollateral,lifetimeBorrows,lifetimeCurrentVariableDebt,lifetimeDepositorsInterestEarned,lifetimeFlashLoanPremium,lifetimeFlashLoans,lifetimeLiquidated,lifetimeLiquidity,lifetimePrincipalStableDebt,lifetimeRepayments,lifetimeReserveFactorAccrued,lifetimeScaledVariableDebt,lifetimeWithdrawals,name,totalLiquidity,totalLiquidityAsCollateral,totalPrincipalStableDebt,totalScaledVariableDebt,underlyingAsset}}}\" \n",
    "    df = bubbletea.beta_load_subgraph(url, query)\n",
    "    df = df['flashLoans']\n",
    "    df['amount'] = df[\"amount\"] / math.pow(10, 18)\n",
    "    return df,int(df.iloc[-1]['timestamp'].timestamp())\n",
    "\n",
    "df_list,ts = [],1612134000 # 2021-2-1\n",
    "while True:\n",
    "    df,tsNext = graphQL(ts)\n",
    "    df_list.append(df)\n",
    "    ts = tsNext\n",
    "    if ts > 1650405600: # 2022-4-20\n",
    "        break\n",
    "df = pd.concat(df_list).reset_index(drop=True)"
   ]
  },
  {
   "cell_type": "code",
   "execution_count": 6,
   "id": "98655698",
   "metadata": {},
   "outputs": [
    {
     "data": {
      "text/html": [
       "<div>\n",
       "<style scoped>\n",
       "    .dataframe tbody tr th:only-of-type {\n",
       "        vertical-align: middle;\n",
       "    }\n",
       "\n",
       "    .dataframe tbody tr th {\n",
       "        vertical-align: top;\n",
       "    }\n",
       "\n",
       "    .dataframe thead th {\n",
       "        text-align: right;\n",
       "    }\n",
       "</style>\n",
       "<table border=\"1\" class=\"dataframe\">\n",
       "  <thead>\n",
       "    <tr style=\"text-align: right;\">\n",
       "      <th></th>\n",
       "      <th>id</th>\n",
       "      <th>target</th>\n",
       "      <th>timestamp</th>\n",
       "      <th>amount</th>\n",
       "      <th>totalFee</th>\n",
       "      <th>initiator.id</th>\n",
       "      <th>initiator.lifetimeRewards</th>\n",
       "      <th>initiator.unclaimedRewards</th>\n",
       "      <th>initiator.borrowedReservesCount</th>\n",
       "      <th>initiator.borrowHistory</th>\n",
       "      <th>...</th>\n",
       "      <th>reserve.lifetimeWithdrawals</th>\n",
       "      <th>reserve.name</th>\n",
       "      <th>reserve.totalLiquidity</th>\n",
       "      <th>reserve.totalLiquidityAsCollateral</th>\n",
       "      <th>reserve.totalPrincipalStableDebt</th>\n",
       "      <th>reserve.totalScaledVariableDebt</th>\n",
       "      <th>reserve.underlyingAsset</th>\n",
       "      <th>pegged</th>\n",
       "      <th>tx_hash</th>\n",
       "      <th>flash_loan_hack</th>\n",
       "    </tr>\n",
       "  </thead>\n",
       "  <tbody>\n",
       "    <tr>\n",
       "      <th>0</th>\n",
       "      <td>11766662:100:0x9c6a677329f47e11d1f8ddf1fa19ea1...</td>\n",
       "      <td>0xbcc4371cc40592794bf5b727c17cf7de37ac180a</td>\n",
       "      <td>2021-01-31 23:00:22</td>\n",
       "      <td>8.398855e-02</td>\n",
       "      <td>7.558970e+13</td>\n",
       "      <td>0xd0d628acf9e985c94a4542cae88e0af7b2378c81</td>\n",
       "      <td>9.976769e+19</td>\n",
       "      <td>0.000000e+00</td>\n",
       "      <td>1</td>\n",
       "      <td>[{'amount': '83988553879439830', 'timestamp': ...</td>\n",
       "      <td>...</td>\n",
       "      <td>5.474965e+26</td>\n",
       "      <td>TrueUSD</td>\n",
       "      <td>9.540451e+25</td>\n",
       "      <td>8.371783e+25</td>\n",
       "      <td>9.243481e+23</td>\n",
       "      <td>5.256611e+25</td>\n",
       "      <td>0x0000000000085d4780b73119b644ae5ecd22b376</td>\n",
       "      <td>USD</td>\n",
       "      <td>0x9c6a677329f47e11d1f8ddf1fa19ea1f1f5163ec5845...</td>\n",
       "      <td>0</td>\n",
       "    </tr>\n",
       "    <tr>\n",
       "      <th>1</th>\n",
       "      <td>11766662:100:0x9c6a677329f47e11d1f8ddf1fa19ea1...</td>\n",
       "      <td>0xbcc4371cc40592794bf5b727c17cf7de37ac180a</td>\n",
       "      <td>2021-01-31 23:00:22</td>\n",
       "      <td>3.544559e-07</td>\n",
       "      <td>3.190103e+08</td>\n",
       "      <td>0xd0d628acf9e985c94a4542cae88e0af7b2378c81</td>\n",
       "      <td>9.976769e+19</td>\n",
       "      <td>0.000000e+00</td>\n",
       "      <td>1</td>\n",
       "      <td>[{'amount': '83988553879439830', 'timestamp': ...</td>\n",
       "      <td>...</td>\n",
       "      <td>3.045499e+16</td>\n",
       "      <td>USD Coin</td>\n",
       "      <td>2.963138e+15</td>\n",
       "      <td>6.112801e+15</td>\n",
       "      <td>1.261085e+13</td>\n",
       "      <td>2.182035e+15</td>\n",
       "      <td>0xa0b86991c6218b36c1d19d4a2e9eb0ce3606eb48</td>\n",
       "      <td>USD</td>\n",
       "      <td>0x9c6a677329f47e11d1f8ddf1fa19ea1f1f5163ec5845...</td>\n",
       "      <td>0</td>\n",
       "    </tr>\n",
       "    <tr>\n",
       "      <th>2</th>\n",
       "      <td>11766780:73:0x671a574788bf158cfede7ee3a85c242f...</td>\n",
       "      <td>0xbcc4371cc40592794bf5b727c17cf7de37ac180a</td>\n",
       "      <td>2021-01-31 23:27:22</td>\n",
       "      <td>7.373415e-09</td>\n",
       "      <td>6.636073e+06</td>\n",
       "      <td>0xf0a2da04f21d743dc73fab07d1796f4362ecff68</td>\n",
       "      <td>2.957948e+17</td>\n",
       "      <td>2.957948e+17</td>\n",
       "      <td>0</td>\n",
       "      <td>[{'amount': '7373414674', 'timestamp': 1612135...</td>\n",
       "      <td>...</td>\n",
       "      <td>3.045499e+16</td>\n",
       "      <td>USD Coin</td>\n",
       "      <td>2.963138e+15</td>\n",
       "      <td>6.112801e+15</td>\n",
       "      <td>1.261085e+13</td>\n",
       "      <td>2.182035e+15</td>\n",
       "      <td>0xa0b86991c6218b36c1d19d4a2e9eb0ce3606eb48</td>\n",
       "      <td>USD</td>\n",
       "      <td>0x671a574788bf158cfede7ee3a85c242f46db5c4651fc...</td>\n",
       "      <td>0</td>\n",
       "    </tr>\n",
       "    <tr>\n",
       "      <th>3</th>\n",
       "      <td>11766847:96:0x2aec3a2d477ac7e1be8acdb7001c1175...</td>\n",
       "      <td>0x498c5431eb517101582988fbb36431ddaac8f4b1</td>\n",
       "      <td>2021-01-31 23:40:38</td>\n",
       "      <td>2.758174e+01</td>\n",
       "      <td>2.482357e+16</td>\n",
       "      <td>0x88202a3d66ddfb2c6fc6ccf6473d8eaf1cd0d2b2</td>\n",
       "      <td>0.000000e+00</td>\n",
       "      <td>0.000000e+00</td>\n",
       "      <td>-1</td>\n",
       "      <td>[{'amount': '4149592357481478000', 'timestamp'...</td>\n",
       "      <td>...</td>\n",
       "      <td>3.839745e+25</td>\n",
       "      <td>Wrapped Ether</td>\n",
       "      <td>1.419812e+24</td>\n",
       "      <td>4.019103e+24</td>\n",
       "      <td>1.845592e+20</td>\n",
       "      <td>4.705730e+23</td>\n",
       "      <td>0xc02aaa39b223fe8d0a0e5c4f27ead9083c756cc2</td>\n",
       "      <td>ETH</td>\n",
       "      <td>0x2aec3a2d477ac7e1be8acdb7001c1175a5b8c1626e0d...</td>\n",
       "      <td>0</td>\n",
       "    </tr>\n",
       "    <tr>\n",
       "      <th>4</th>\n",
       "      <td>11767130:118:0xb9813c444b4cc59fd27a6d2e6cb0dd1...</td>\n",
       "      <td>0xbcc4371cc40592794bf5b727c17cf7de37ac180a</td>\n",
       "      <td>2021-02-01 00:40:55</td>\n",
       "      <td>3.025418e-09</td>\n",
       "      <td>2.722876e+06</td>\n",
       "      <td>0x87e6888935180a9b27a9b48b75c9b779bfec1f76</td>\n",
       "      <td>5.359569e+18</td>\n",
       "      <td>5.359569e+18</td>\n",
       "      <td>0</td>\n",
       "      <td>[{'amount': '3025417948', 'timestamp': 1612140...</td>\n",
       "      <td>...</td>\n",
       "      <td>2.474242e+13</td>\n",
       "      <td>Wrapped BTC</td>\n",
       "      <td>4.572581e+12</td>\n",
       "      <td>4.475641e+12</td>\n",
       "      <td>8.507095e+07</td>\n",
       "      <td>1.536692e+11</td>\n",
       "      <td>0x2260fac5e5542a773aa44fbcfedf7c193bc2c599</td>\n",
       "      <td>Else</td>\n",
       "      <td>0xb9813c444b4cc59fd27a6d2e6cb0dd126eee6a67138a...</td>\n",
       "      <td>0</td>\n",
       "    </tr>\n",
       "  </tbody>\n",
       "</table>\n",
       "<p>5 rows × 43 columns</p>\n",
       "</div>"
      ],
      "text/plain": [
       "                                                  id  \\\n",
       "0  11766662:100:0x9c6a677329f47e11d1f8ddf1fa19ea1...   \n",
       "1  11766662:100:0x9c6a677329f47e11d1f8ddf1fa19ea1...   \n",
       "2  11766780:73:0x671a574788bf158cfede7ee3a85c242f...   \n",
       "3  11766847:96:0x2aec3a2d477ac7e1be8acdb7001c1175...   \n",
       "4  11767130:118:0xb9813c444b4cc59fd27a6d2e6cb0dd1...   \n",
       "\n",
       "                                       target           timestamp  \\\n",
       "0  0xbcc4371cc40592794bf5b727c17cf7de37ac180a 2021-01-31 23:00:22   \n",
       "1  0xbcc4371cc40592794bf5b727c17cf7de37ac180a 2021-01-31 23:00:22   \n",
       "2  0xbcc4371cc40592794bf5b727c17cf7de37ac180a 2021-01-31 23:27:22   \n",
       "3  0x498c5431eb517101582988fbb36431ddaac8f4b1 2021-01-31 23:40:38   \n",
       "4  0xbcc4371cc40592794bf5b727c17cf7de37ac180a 2021-02-01 00:40:55   \n",
       "\n",
       "         amount      totalFee                                initiator.id  \\\n",
       "0  8.398855e-02  7.558970e+13  0xd0d628acf9e985c94a4542cae88e0af7b2378c81   \n",
       "1  3.544559e-07  3.190103e+08  0xd0d628acf9e985c94a4542cae88e0af7b2378c81   \n",
       "2  7.373415e-09  6.636073e+06  0xf0a2da04f21d743dc73fab07d1796f4362ecff68   \n",
       "3  2.758174e+01  2.482357e+16  0x88202a3d66ddfb2c6fc6ccf6473d8eaf1cd0d2b2   \n",
       "4  3.025418e-09  2.722876e+06  0x87e6888935180a9b27a9b48b75c9b779bfec1f76   \n",
       "\n",
       "   initiator.lifetimeRewards  initiator.unclaimedRewards  \\\n",
       "0               9.976769e+19                0.000000e+00   \n",
       "1               9.976769e+19                0.000000e+00   \n",
       "2               2.957948e+17                2.957948e+17   \n",
       "3               0.000000e+00                0.000000e+00   \n",
       "4               5.359569e+18                5.359569e+18   \n",
       "\n",
       "   initiator.borrowedReservesCount  \\\n",
       "0                                1   \n",
       "1                                1   \n",
       "2                                0   \n",
       "3                               -1   \n",
       "4                                0   \n",
       "\n",
       "                             initiator.borrowHistory  ...  \\\n",
       "0  [{'amount': '83988553879439830', 'timestamp': ...  ...   \n",
       "1  [{'amount': '83988553879439830', 'timestamp': ...  ...   \n",
       "2  [{'amount': '7373414674', 'timestamp': 1612135...  ...   \n",
       "3  [{'amount': '4149592357481478000', 'timestamp'...  ...   \n",
       "4  [{'amount': '3025417948', 'timestamp': 1612140...  ...   \n",
       "\n",
       "  reserve.lifetimeWithdrawals   reserve.name reserve.totalLiquidity  \\\n",
       "0                5.474965e+26        TrueUSD           9.540451e+25   \n",
       "1                3.045499e+16       USD Coin           2.963138e+15   \n",
       "2                3.045499e+16       USD Coin           2.963138e+15   \n",
       "3                3.839745e+25  Wrapped Ether           1.419812e+24   \n",
       "4                2.474242e+13    Wrapped BTC           4.572581e+12   \n",
       "\n",
       "  reserve.totalLiquidityAsCollateral reserve.totalPrincipalStableDebt  \\\n",
       "0                       8.371783e+25                     9.243481e+23   \n",
       "1                       6.112801e+15                     1.261085e+13   \n",
       "2                       6.112801e+15                     1.261085e+13   \n",
       "3                       4.019103e+24                     1.845592e+20   \n",
       "4                       4.475641e+12                     8.507095e+07   \n",
       "\n",
       "  reserve.totalScaledVariableDebt                     reserve.underlyingAsset  \\\n",
       "0                    5.256611e+25  0x0000000000085d4780b73119b644ae5ecd22b376   \n",
       "1                    2.182035e+15  0xa0b86991c6218b36c1d19d4a2e9eb0ce3606eb48   \n",
       "2                    2.182035e+15  0xa0b86991c6218b36c1d19d4a2e9eb0ce3606eb48   \n",
       "3                    4.705730e+23  0xc02aaa39b223fe8d0a0e5c4f27ead9083c756cc2   \n",
       "4                    1.536692e+11  0x2260fac5e5542a773aa44fbcfedf7c193bc2c599   \n",
       "\n",
       "  pegged                                            tx_hash  flash_loan_hack  \n",
       "0    USD  0x9c6a677329f47e11d1f8ddf1fa19ea1f1f5163ec5845...                0  \n",
       "1    USD  0x9c6a677329f47e11d1f8ddf1fa19ea1f1f5163ec5845...                0  \n",
       "2    USD  0x671a574788bf158cfede7ee3a85c242f46db5c4651fc...                0  \n",
       "3    ETH  0x2aec3a2d477ac7e1be8acdb7001c1175a5b8c1626e0d...                0  \n",
       "4   Else  0xb9813c444b4cc59fd27a6d2e6cb0dd126eee6a67138a...                0  \n",
       "\n",
       "[5 rows x 43 columns]"
      ]
     },
     "execution_count": 6,
     "metadata": {},
     "output_type": "execute_result"
    }
   ],
   "source": [
    "def pegged(name):\n",
    "    if name in ['USD Coin','Dai Stablecoin','Tether USD','Maker','TrueUSD','Synth sUSD','Binance USD']:\n",
    "        return 'USD'\n",
    "    elif name in['Wrapped Ether']:\n",
    "        return 'ETH'\n",
    "    else:\n",
    "        return 'Else'\n",
    "    \n",
    "df['tx_hash'] = df.id.apply(lambda x: x.split(':')[2])\n",
    "df['flash_loan_hack'] = df.tx_hash.apply(lambda x: x in HACK_TX_HASHES).astype(int)\n",
    "df['pegged'] = df['reserve.name'].apply(lambda x: pegged(x))\n",
    "HACK_TX_PEG = list(df[df.flash_loan_hack==1]['pegged'])\n",
    "df.head()"
   ]
  },
  {
   "cell_type": "markdown",
   "id": "ce64be94",
   "metadata": {},
   "source": [
    "# 2. Analysis"
   ]
  },
  {
   "cell_type": "code",
   "execution_count": 7,
   "id": "b9e9388b",
   "metadata": {
    "scrolled": true
   },
   "outputs": [
    {
     "data": {
      "image/png": "[encoded data removed]",
      "text/plain": [
       "<Figure size 432x288 with 1 Axes>"
      ]
     },
     "metadata": {
      "needs_background": "light"
     },
     "output_type": "display_data"
    }
   ],
   "source": [
    "c = 'amount'\n",
    "plt.title('Amount of Flash Loan (LOG,HISTOGRAM)',size=14)\n",
    "plt.hist(np.log10(df[c]+1e-8), bins=100, color='#2D69C7')\n",
    "for i in range(len(HACK_TX_HASHES)):\n",
    "    plt.axvline(np.log10(df[df.flash_loan_hack==1].reset_index(drop=True)[c].iloc[i]),color='red')\n",
    "plt.show()\n"
   ]
  },
  {
   "cell_type": "code",
   "execution_count": 8,
   "id": "e107897a",
   "metadata": {},
   "outputs": [
    {
     "data": {
      "image/png": "[encoded data removed]",
      "text/plain": [
       "<Figure size 432x288 with 1 Axes>"
      ]
     },
     "metadata": {
      "needs_background": "light"
     },
     "output_type": "display_data"
    }
   ],
   "source": [
    "peg = 'USD'\n",
    "c = 'amount'\n",
    "plt.title('Amount of Flash Loan (LOG,HISTOGRAM) - USD',size=14)\n",
    "plt.hist(np.log10(df[df.pegged==peg][c]+1e-8), bins=100, color='#2D69C7')\n",
    "for i in range(len(HACK_TX_HASHES)):\n",
    "    if HACK_TX_PEG[i] == peg:\n",
    "        plt.axvline(np.log10(df[df.flash_loan_hack==1].reset_index(drop=True)[c].iloc[i]),color='red')\n",
    "plt.show()\n"
   ]
  },
  {
   "cell_type": "code",
   "execution_count": 9,
   "id": "455fcece",
   "metadata": {},
   "outputs": [
    {
     "data": {
      "image/png": "[encoded data removed]",
      "text/plain": [
       "<Figure size 432x288 with 1 Axes>"
      ]
     },
     "metadata": {
      "needs_background": "light"
     },
     "output_type": "display_data"
    }
   ],
   "source": [
    "peg = 'ETH'\n",
    "c = 'amount'\n",
    "plt.title('Amount of Flash Loan (LOG,HISTOGRAM) - ETH',size=14)\n",
    "plt.hist(np.log10(df[df.pegged==peg][c]+1e-8), bins=100, color='#2D69C7')\n",
    "for i in range(len(HACK_TX_HASHES)):\n",
    "    if HACK_TX_PEG[i] == peg:\n",
    "        plt.axvline(np.log10(df[df.flash_loan_hack==1].reset_index(drop=True)[c].iloc[i]),color='red')\n",
    "plt.show()\n"
   ]
  },
  {
   "cell_type": "code",
   "execution_count": 10,
   "id": "e38deacc",
   "metadata": {},
   "outputs": [
    {
     "data": {
      "image/png": "[encoded data removed]",
      "text/plain": [
       "<Figure size 432x288 with 1 Axes>"
      ]
     },
     "metadata": {
      "needs_background": "light"
     },
     "output_type": "display_data"
    }
   ],
   "source": [
    "c = 'totalFee'\n",
    "plt.title('Total Fee on Flash Loan (LOG,HISTOGRAM)',size=14)\n",
    "plt.hist(np.log10(df[c]+1e-8), bins=100, color='#2D69C7')\n",
    "for i in range(len(HACK_TX_HASHES)):\n",
    "    plt.axvline(np.log10(df[df.flash_loan_hack==1].reset_index(drop=True)[c].iloc[i]),color='red')\n",
    "plt.show()"
   ]
  },
  {
   "cell_type": "code",
   "execution_count": 11,
   "id": "053e4f8e",
   "metadata": {},
   "outputs": [
    {
     "data": {
      "image/png": "[encoded data removed]",
      "text/plain": [
       "<Figure size 432x288 with 1 Axes>"
      ]
     },
     "metadata": {
      "needs_background": "light"
     },
     "output_type": "display_data"
    }
   ],
   "source": [
    "c = 'initiator.borrowHistory'\n",
    "plt.title('Number of Borrow History at Flash Loan (LOG,HISTOGRAM)',size=14)\n",
    "plt.hist(df[c].apply(lambda x: len(x)), bins=30, color='#2D69C7')\n",
    "for i in range(len(HACK_TX_HASHES)):\n",
    "    plt.axvline(df[df.flash_loan_hack==1][c].apply(lambda x: len(x)).reset_index(drop=True).iloc[i],color='red')\n",
    "plt.show()"
   ]
  },
  {
   "cell_type": "code",
   "execution_count": 12,
   "id": "67743629",
   "metadata": {},
   "outputs": [
    {
     "data": {
      "image/png": "[encoded data removed]",
      "text/plain": [
       "<Figure size 432x288 with 1 Axes>"
      ]
     },
     "metadata": {
      "needs_background": "light"
     },
     "output_type": "display_data"
    }
   ],
   "source": [
    "c = 'initiator.depositHistory'\n",
    "plt.title('Number of Borrow History at Flash Loan (LOG,HISTOGRAM)',size=14)\n",
    "plt.hist(df[c].apply(lambda x: len(x)), bins=30, color='#2D69C7')\n",
    "for i in range(len(HACK_TX_HASHES)):\n",
    "    plt.axvline(df[df.flash_loan_hack==1][c].apply(lambda x: len(x)).reset_index(drop=True).iloc[i],color='red')\n",
    "plt.show()"
   ]
  },
  {
   "cell_type": "markdown",
   "id": "ca2953c3",
   "metadata": {},
   "source": [
    "# 3. Implications & Further Study"
   ]
  },
  {
   "cell_type": "markdown",
   "id": "86b6f35b",
   "metadata": {},
   "source": [
    "### Implications\n",
    "- For the sake of developing Web3.0 Ecosystem itself, we propose lending DeFi protocols such as AAVE to eliminate flash loan hacking risks as much as possible by building an algorithm in the smart contract to eliminate the following transactions:<br>\n",
    "1. High amount of flash loan compared to the majority<br>\n",
    "2. Too small number of transaction histories<br>"
   ]
  },
  {
   "cell_type": "markdown",
   "id": "a673ad06",
   "metadata": {},
   "source": [
    "### Further Study\n",
    "- We propose to build an even more sophisticated algorithm to avoid flash loan hackings, such as machile learning on top of this. "
   ]
  },
  {
   "cell_type": "code",
   "execution_count": null,
   "id": "59c16bb6",
   "metadata": {},
   "outputs": [],
   "source": []
  }
 ],
 "metadata": {
  "kernelspec": {
   "display_name": "Python 3",
   "language": "python",
   "name": "python3"
  },
  "language_info": {
   "codemirror_mode": {
    "name": "ipython",
    "version": 3
   },
   "file_extension": ".py",
   "mimetype": "text/x-python",
   "name": "python",
   "nbconvert_exporter": "python",
   "pygments_lexer": "ipython3",
   "version": "3.9.2"
  }
 },
 "nbformat": 4,
 "nbformat_minor": 5
}
